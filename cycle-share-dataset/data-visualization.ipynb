{
 "cells": [
  {
   "cell_type": "markdown",
   "metadata": {
    "_cell_guid": "f17c29e8-986b-eed0-2fb8-51c70d927412"
   },
   "source": [
    "<br><br><br>\n",
    "\n",
    "#Work in Progress"
   ]
  },
  {
   "cell_type": "code",
   "execution_count": 8,
   "metadata": {
    "_cell_guid": "b0f34334-47e3-a1eb-3196-45e623017ce8",
    "scrolled": true
   },
   "outputs": [
    {
     "name": "stderr",
     "output_type": "stream",
     "text": [
      "Skipping line 50794: expected 12 fields, saw 20\n",
      "\n"
     ]
    },
    {
     "data": {
      "text/html": [
       "<div>\n",
       "<style scoped>\n",
       "    .dataframe tbody tr th:only-of-type {\n",
       "        vertical-align: middle;\n",
       "    }\n",
       "\n",
       "    .dataframe tbody tr th {\n",
       "        vertical-align: top;\n",
       "    }\n",
       "\n",
       "    .dataframe thead th {\n",
       "        text-align: right;\n",
       "    }\n",
       "</style>\n",
       "<table border=\"1\" class=\"dataframe\">\n",
       "  <thead>\n",
       "    <tr style=\"text-align: right;\">\n",
       "      <th></th>\n",
       "      <th>station_id</th>\n",
       "      <th>name</th>\n",
       "      <th>lat</th>\n",
       "      <th>long</th>\n",
       "      <th>install_date</th>\n",
       "      <th>install_dockcount</th>\n",
       "      <th>modification_date</th>\n",
       "      <th>current_dockcount</th>\n",
       "      <th>decommission_date</th>\n",
       "    </tr>\n",
       "  </thead>\n",
       "  <tbody>\n",
       "    <tr>\n",
       "      <th>0</th>\n",
       "      <td>BT-01</td>\n",
       "      <td>3rd Ave &amp; Broad St</td>\n",
       "      <td>47.618418</td>\n",
       "      <td>-122.350964</td>\n",
       "      <td>10/13/2014</td>\n",
       "      <td>18</td>\n",
       "      <td>NaN</td>\n",
       "      <td>18</td>\n",
       "      <td>NaN</td>\n",
       "    </tr>\n",
       "    <tr>\n",
       "      <th>1</th>\n",
       "      <td>BT-03</td>\n",
       "      <td>2nd Ave &amp; Vine St</td>\n",
       "      <td>47.615829</td>\n",
       "      <td>-122.348564</td>\n",
       "      <td>10/13/2014</td>\n",
       "      <td>16</td>\n",
       "      <td>NaN</td>\n",
       "      <td>16</td>\n",
       "      <td>NaN</td>\n",
       "    </tr>\n",
       "    <tr>\n",
       "      <th>2</th>\n",
       "      <td>BT-04</td>\n",
       "      <td>6th Ave &amp; Blanchard St</td>\n",
       "      <td>47.616094</td>\n",
       "      <td>-122.341102</td>\n",
       "      <td>10/13/2014</td>\n",
       "      <td>16</td>\n",
       "      <td>NaN</td>\n",
       "      <td>16</td>\n",
       "      <td>NaN</td>\n",
       "    </tr>\n",
       "    <tr>\n",
       "      <th>3</th>\n",
       "      <td>BT-05</td>\n",
       "      <td>2nd Ave &amp; Blanchard St</td>\n",
       "      <td>47.613110</td>\n",
       "      <td>-122.344208</td>\n",
       "      <td>10/13/2014</td>\n",
       "      <td>14</td>\n",
       "      <td>NaN</td>\n",
       "      <td>14</td>\n",
       "      <td>NaN</td>\n",
       "    </tr>\n",
       "    <tr>\n",
       "      <th>4</th>\n",
       "      <td>CBD-03</td>\n",
       "      <td>7th Ave &amp; Union St</td>\n",
       "      <td>47.610731</td>\n",
       "      <td>-122.332447</td>\n",
       "      <td>10/13/2014</td>\n",
       "      <td>20</td>\n",
       "      <td>NaN</td>\n",
       "      <td>20</td>\n",
       "      <td>NaN</td>\n",
       "    </tr>\n",
       "  </tbody>\n",
       "</table>\n",
       "</div>"
      ],
      "text/plain": [
       "  station_id                    name        lat        long install_date  \\\n",
       "0      BT-01      3rd Ave & Broad St  47.618418 -122.350964   10/13/2014   \n",
       "1      BT-03       2nd Ave & Vine St  47.615829 -122.348564   10/13/2014   \n",
       "2      BT-04  6th Ave & Blanchard St  47.616094 -122.341102   10/13/2014   \n",
       "3      BT-05  2nd Ave & Blanchard St  47.613110 -122.344208   10/13/2014   \n",
       "4     CBD-03      7th Ave & Union St  47.610731 -122.332447   10/13/2014   \n",
       "\n",
       "   install_dockcount modification_date  current_dockcount decommission_date  \n",
       "0                 18               NaN                 18               NaN  \n",
       "1                 16               NaN                 16               NaN  \n",
       "2                 16               NaN                 16               NaN  \n",
       "3                 14               NaN                 14               NaN  \n",
       "4                 20               NaN                 20               NaN  "
      ]
     },
     "execution_count": 8,
     "metadata": {},
     "output_type": "execute_result"
    }
   ],
   "source": [
    "import numpy as np \n",
    "import pandas as pd \n",
    "\n",
    "from subprocess import check_output\n",
    "stations = pd.read_csv('D:/Studies/semester 4/project/cycle-share-dataset/station.csv')\n",
    "trips = pd.read_csv('D:/Studies/semester 4/project/cycle-share-dataset/trip.csv', error_bad_lines=False)\n",
    "\n",
    "weathers = pd.read_csv('D:/Studies/semester 4/project/cycle-share-dataset//weather.csv')\n",
    "\n",
    "stations.head(5)"
   ]
  },
  {
   "cell_type": "code",
   "execution_count": 3,
   "metadata": {
    "_cell_guid": "b6f4df1b-89bf-bd01-853d-22fdf0abbbfa"
   },
   "outputs": [],
   "source": [
    "import matplotlib.pyplot as plt\n",
    "\n",
    "trips.gender\n",
    "\n",
    "from collections import defaultdict\n",
    "\n",
    "# count genders\n",
    "counts = defaultdict(int)\n",
    "for e in trips.gender:\n",
    "    counts[e] += 1"
   ]
  },
  {
   "cell_type": "code",
   "execution_count": 4,
   "metadata": {
    "_cell_guid": "c155a2f5-86c3-966f-a72d-0b1456517c91"
   },
   "outputs": [
    {
     "data": {
      "image/png": "[encoded data removed]",
      "text/plain": [
       "<matplotlib.figure.Figure at 0x7f7abdc357b8>"
      ]
     },
     "metadata": {},
     "output_type": "display_data"
    }
   ],
   "source": [
    "# Gender distribution\n",
    "y = [e[1] for e in counts.items()][:4]\n",
    "x = range(len(y))\n",
    "cols = [e[0] for e in counts.items()][:4]\n",
    "    \n",
    "plt.figure(figsize=(8,5))\n",
    "plt.bar(x, y, color='blue', width=1/1.5)\n",
    "plt.xticks(x, cols)\n",
    "plt.title('Gender Distribution')\n",
    "plt.show()"
   ]
  },
  {
   "cell_type": "code",
   "execution_count": 4,
   "metadata": {
    "_cell_guid": "70793df3-cb31-18e5-5077-282485abe0d5"
   },
   "outputs": [
    {
     "name": "stdout",
     "output_type": "stream",
     "text": [
      "62\n"
     ]
    }
   ],
   "source": [
    "# Bikes with trip duration\n",
    "\n",
    "#print(trips.birthyear)\n",
    "\n",
    "bike_stats = defaultdict(int)\n",
    "dur_stats = defaultdict(float)\n",
    "by_stats = defaultdict(int)\n",
    "\n",
    "for t in trips.itertuples():\n",
    "    bike_stats[t.bikeid] += 1\n",
    "    dur_stats[t.bikeid] += t.tripduration\n",
    "    by_stats[str(t.birthyear)] += 1\n",
    "    #break\n",
    "    \n",
    "#for bid in dur_stats.keys():\n",
    "#    dur_stats[bid] /= bike_stats[bid]\n",
    "    \n",
    "    \n",
    "#for e, k in zip(dur_stats, bike_stats):\n",
    "    #print(dur_stats[k], \" \", bike_stats[e])\n",
    "    \n",
    "print(len(by_stats.keys()))\n",
    "#print(by_stats)"
   ]
  },
  {
   "cell_type": "code",
   "execution_count": 6,
   "metadata": {
    "_cell_guid": "1893ec6b-43c3-ea5b-5eed-bfe076360f90"
   },
   "outputs": [
    {
     "name": "stdout",
     "output_type": "stream",
     "text": [
      "1931 1999\n"
     ]
    },
    {
     "data": {
      "image/png": "[encoded data removed]",
      "text/plain": [
       "<matplotlib.figure.Figure at 0x7f7abff644e0>"
      ]
     },
     "metadata": {},
     "output_type": "display_data"
    }
   ],
   "source": [
    "keys = sorted(by_stats.keys())[:-1] # without nan\n",
    "\n",
    "\n",
    "# Age distribution\n",
    "\n",
    "y = [by_stats[k] for k in keys]\n",
    "\n",
    "cols = [by_stats[k] for k in keys]\n",
    "    \n",
    "    \n",
    "minyear = int(min(keys)[:-2])\n",
    "maxyear = int(max(keys)[:-2])\n",
    "print(minyear, maxyear)\n",
    "minamp=0\n",
    "maxamp=40\n",
    "\n",
    "x = range(minyear, maxyear, 50)\n",
    "x = range(minyear, maxyear)\n",
    "\n",
    "x = x[:61]\n",
    "\n",
    "# evalutate with histogram\n",
    "plt.figure(figsize=(14,5))\n",
    "plt.bar(x, y, color='blue', width=1/1.5)\n",
    "#plt.hist(cols, 10)\n",
    "plt.xticks(x, [e for e in x])\n",
    "#plt.axis([minyear, maxyear, minamp, maxamp])\n",
    "plt.title('Age Distribution')\n",
    "plt.show()"
   ]
  },
  {
   "cell_type": "code",
   "execution_count": null,
   "metadata": {
    "_cell_guid": "e6503c5d-1e58-2a4a-693a-23c1c80b9859"
   },
   "outputs": [],
   "source": []
  },
  {
   "cell_type": "code",
   "execution_count": null,
   "metadata": {},
   "outputs": [],
   "source": []
  }
 ],
 "metadata": {
  "_change_revision": 244,
  "_is_fork": false,
  "kernelspec": {
   "display_name": "Python 2",
   "language": "python",
   "name": "python2"
  },
  "language_info": {
   "codemirror_mode": {
    "name": "ipython",
    "version": 2
   },
   "file_extension": ".py",
   "mimetype": "text/x-python",
   "name": "python",
   "nbconvert_exporter": "python",
   "pygments_lexer": "ipython2",
   "version": "2.7.15"
  }
 },
 "nbformat": 4,
 "nbformat_minor": 1
}
